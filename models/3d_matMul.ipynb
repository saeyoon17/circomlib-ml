{
 "cells": [
  {
   "cell_type": "code",
   "execution_count": 1,
   "id": "515c2743-d0e7-4d9d-92bc-51e6b47c7b30",
   "metadata": {},
   "outputs": [],
   "source": [
    "import torch"
   ]
  },
  {
   "cell_type": "code",
   "execution_count": 2,
   "id": "2a34560f-21ec-45bf-9ebf-16b59a37f496",
   "metadata": {},
   "outputs": [],
   "source": [
    "B = 2\n",
    "m = 3\n",
    "p = 4\n",
    "n = 5\n",
    "\n",
    "a = torch.rand(B, m, p)\n",
    "b = torch.rand(B, p, n)"
   ]
  },
  {
   "cell_type": "code",
   "execution_count": 3,
   "id": "258252a1-6efe-41a7-b327-4283722c3838",
   "metadata": {},
   "outputs": [],
   "source": [
    "c = torch.matmul(a, b)"
   ]
  },
  {
   "cell_type": "code",
   "execution_count": 5,
   "id": "34d504f1-3c45-428b-a7cf-e298f6b7669b",
   "metadata": {},
   "outputs": [],
   "source": [
    "in_json = {\n",
    "    \"a\": (a*1000).round().to(torch.int).flatten().tolist(),\n",
    "    \"b\": (b*1000).round().to(torch.int).flatten().tolist()\n",
    "}"
   ]
  },
  {
   "cell_type": "code",
   "execution_count": 7,
   "id": "42868650-06e8-46cb-8a95-cda0f7361e36",
   "metadata": {},
   "outputs": [],
   "source": [
    "out_json = {\n",
    "    \"out\": (c*1e6).round().to(torch.int).flatten().tolist()\n",
    "}"
   ]
  },
  {
   "cell_type": "code",
   "execution_count": 10,
   "id": "d0d0d23d-b06f-43fd-86c9-1cd2adfba252",
   "metadata": {},
   "outputs": [],
   "source": [
    "import json"
   ]
  },
  {
   "cell_type": "code",
   "execution_count": 11,
   "id": "312ae334-92af-4613-890e-9267a5095cca",
   "metadata": {},
   "outputs": [],
   "source": [
    "with open(\"3d_matMul_input.json\", \"w\") as f:\n",
    "    json.dump(in_json, f)"
   ]
  },
  {
   "cell_type": "code",
   "execution_count": 12,
   "id": "7fedbb5e-02c6-4b78-8c68-f3843ea98b21",
   "metadata": {},
   "outputs": [],
   "source": [
    "with open(\"3d_matMul_output.json\", \"w\") as f:\n",
    "    json.dump(out_json, f)"
   ]
  },
  {
   "cell_type": "code",
   "execution_count": null,
   "id": "ee134ac2-60e3-4226-be04-880e549c30a0",
   "metadata": {},
   "outputs": [],
   "source": []
  },
  {
   "cell_type": "code",
   "execution_count": null,
   "id": "c5257008-06d3-470e-85af-49298e226481",
   "metadata": {},
   "outputs": [],
   "source": []
  }
 ],
 "metadata": {
  "kernelspec": {
   "display_name": "Python 3",
   "language": "python",
   "name": "python3"
  },
  "language_info": {
   "codemirror_mode": {
    "name": "ipython",
    "version": 3
   },
   "file_extension": ".py",
   "mimetype": "text/x-python",
   "name": "python",
   "nbconvert_exporter": "python",
   "pygments_lexer": "ipython3",
   "version": "3.9.1"
  }
 },
 "nbformat": 4,
 "nbformat_minor": 5
}
